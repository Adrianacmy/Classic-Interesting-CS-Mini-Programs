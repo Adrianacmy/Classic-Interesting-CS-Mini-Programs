{
 "cells": [
  {
   "cell_type": "code",
   "execution_count": 4,
   "metadata": {},
   "outputs": [
    {
     "name": "stdout",
     "output_type": "stream",
     "text": [
      "aArr:  [1 2 3 4 5]\n",
      "dtype:  int64\n",
      "shape:  (5,)\n"
     ]
    }
   ],
   "source": [
    "import numpy as np\n",
    "\n",
    "# create a numpy array\n",
    "aArr = np.array([x for x in range(1,6)])\n",
    "print('aArr: ', aArr)\n",
    "print('dtype: ', aArr.dtype)\n",
    "print('shape: ', aArr.shape)"
   ]
  },
  {
   "cell_type": "code",
   "execution_count": 5,
   "metadata": {},
   "outputs": [
    {
     "name": "stdout",
     "output_type": "stream",
     "text": [
      "bArr:  ['1' '2' 'World']\n",
      "bArr type:  <class 'numpy.ndarray'>\n",
      "dtype:  <U21\n",
      "shape:  (3,)\n"
     ]
    }
   ],
   "source": [
    "# Create a rank 1 ndarray from a Python list that contains integers and strings\n",
    "bArr = np.array([1, 2, 'World'])\n",
    "print('bArr: ', bArr)\n",
    "print('bArr type: ', type(bArr))\n",
    "print('dtype: ', bArr.dtype)\n",
    "print('shape: ', bArr.shape)"
   ]
  },
  {
   "cell_type": "code",
   "execution_count": 8,
   "metadata": {},
   "outputs": [
    {
     "name": "stdout",
     "output_type": "stream",
     "text": [
      "bArr:  [  1.   2.   3.  88.]\n",
      "bArr type:  <class 'numpy.ndarray'>\n",
      "dtype:  float64\n",
      "shape:  (4,)\n"
     ]
    }
   ],
   "source": [
    "# Create a rank 1 ndarray that contains floats\n",
    "c = np.array([1.0,2.0,3.0, 88])\n",
    "print('bArr: ', c)\n",
    "print('bArr type: ', type(c))\n",
    "print('dtype: ', c.dtype)\n",
    "print('shape: ', c.shape)\n"
   ]
  },
  {
   "cell_type": "code",
   "execution_count": 12,
   "metadata": {},
   "outputs": [
    {
     "name": "stdout",
     "output_type": "stream",
     "text": [
      "bArr:  [1 2 3 4 5]\n",
      "bArr type:  <class 'numpy.ndarray'>\n",
      "dtype:  int64\n",
      "shape:  (5,)\n"
     ]
    }
   ],
   "source": [
    "# Create a rank 1 ndarray of floats but set the dtype to int64\n",
    "d = np.array([1.5, 2.2, 3.7, 4.0, 5.9], dtype = np.int64)\n",
    "print('bArr: ', d)\n",
    "print('bArr type: ', type(d))\n",
    "print('dtype: ', d.dtype)\n",
    "print('shape: ', d.shape)"
   ]
  },
  {
   "cell_type": "code",
   "execution_count": 13,
   "metadata": {},
   "outputs": [
    {
     "name": "stdout",
     "output_type": "stream",
     "text": [
      "\n",
      "y =  [1 2 3 4 5]\n",
      "\n"
     ]
    }
   ],
   "source": [
    "# create a rank 1 ndarray\n",
    "e = np.array([1, 2, 3, 4, 5])\n",
    "\n",
    "# save x into the current directory as \n",
    "np.save('my_array', e)\n",
    "\n",
    "# load the saved array from our current directory into variable y\n",
    "y = np.load('my_array.npy')\n",
    "\n",
    "# print y\n",
    "print()\n",
    "print('y = ', y)\n",
    "print()\n"
   ]
  },
  {
   "cell_type": "markdown",
   "metadata": {},
   "source": [
    "## Using Numpy build-in funcitons to create ndarray"
   ]
  },
  {
   "cell_type": "code",
   "execution_count": 27,
   "metadata": {},
   "outputs": [
    {
     "name": "stdout",
     "output_type": "stream",
     "text": [
      "\n",
      "f= \n",
      " [[ 0.  0.  0.  0.]\n",
      " [ 0.  0.  0.  0.]\n",
      " [ 0.  0.  0.  0.]]\n",
      "\n",
      "shape:  (3, 4)\n",
      "type:  <class 'numpy.ndarray'>\n",
      "dtype  float64\n",
      "\n",
      "h= \n",
      " [[0 0 0 0]\n",
      " [0 0 0 0]\n",
      " [0 0 0 0]]\n",
      "\n",
      "g=\n",
      " [[1 1 1 1]\n",
      " [1 1 1 1]\n",
      " [1 1 1 1]]\n"
     ]
    }
   ],
   "source": [
    "# create a 3 x 4 ndarray full of zeros. \n",
    "f = np.zeros((3,4))\n",
    "print()\n",
    "print('f= \\n', f)\n",
    "print()\n",
    "print('shape: ', f.shape)\n",
    "print('type: ', type(f))\n",
    "print('dtype ', f.dtype)\n",
    "\n",
    "# specify data type\n",
    "h = np.zeros((3,4), dtype=int)\n",
    "print()\n",
    "print('h= \\n', h)\n",
    "print()\n",
    "\n",
    "g = np.ones((3,4), dtype=int)\n",
    "print('g=\\n', g)"
   ]
  },
  {
   "cell_type": "code",
   "execution_count": 29,
   "metadata": {},
   "outputs": [
    {
     "name": "stdout",
     "output_type": "stream",
     "text": [
      "full=\n",
      "  [[ 5.  5.  5.]\n",
      " [ 5.  5.  5.]]\n"
     ]
    }
   ],
   "source": [
    "# create ndarray with a specified shape that is full of any value\n",
    "full = np.full((2, 3), 5.)\n",
    "print('full=\\n ', full)"
   ]
  },
  {
   "cell_type": "code",
   "execution_count": 31,
   "metadata": {},
   "outputs": [
    {
     "name": "stdout",
     "output_type": "stream",
     "text": [
      "eye=\n",
      " [[ 1.  0.  0.  0.  0.  0.]\n",
      " [ 0.  1.  0.  0.  0.  0.]\n",
      " [ 0.  0.  1.  0.  0.  0.]\n",
      " [ 0.  0.  0.  1.  0.  0.]\n",
      " [ 0.  0.  0.  0.  1.  0.]\n",
      " [ 0.  0.  0.  0.  0.  1.]]\n"
     ]
    }
   ],
   "source": [
    "# np.eye(N) creates a square N x N ndarray corresponding to the Identity matrix.\n",
    "eye = np.eye(6)\n",
    "print('eye=\\n', eye)"
   ]
  },
  {
   "cell_type": "code",
   "execution_count": 32,
   "metadata": {},
   "outputs": [
    {
     "name": "stdout",
     "output_type": "stream",
     "text": [
      "diag=\n",
      " [[10  0  0  0]\n",
      " [ 0 20  0  0]\n",
      " [ 0  0 30  0]\n",
      " [ 0  0  0 50]]\n"
     ]
    }
   ],
   "source": [
    "# Create a 4 x 4 diagonal matrix that contains the numbers 10,20,30, and 50\n",
    "# on its main diagonal\n",
    "diag = np.diag([10,20,30,50])\n",
    "print('diag=\\n', diag)"
   ]
  },
  {
   "cell_type": "code",
   "execution_count": 33,
   "metadata": {},
   "outputs": [
    {
     "name": "stdout",
     "output_type": "stream",
     "text": [
      "rangeArr= \n",
      " [ 1  4  7 10 13]\n"
     ]
    }
   ],
   "source": [
    "# Create a rank 1 ndarray that has evenly spaced integers from 1 to 13 in steps of 3.\n",
    "rangeArr = np.arange(1,14,3)\n",
    "print('rangeArr= \\n', rangeArr)"
   ]
  },
  {
   "cell_type": "code",
   "execution_count": 36,
   "metadata": {},
   "outputs": [
    {
     "name": "stdout",
     "output_type": "stream",
     "text": [
      "arrLin=\n",
      " [  0.    2.5   5.    7.5  10.   12.5  15.   17.5  20.   22.5]\n"
     ]
    }
   ],
   "source": [
    "# Create a rank 1 ndarray that has 10 integers evenly spaced between 0 and 25,\n",
    "# with 25 excluded.(endpoint=False)\n",
    "arrLin = np.linspace(0,25,10, endpoint = False)\n",
    "print('arrLin=\\n', arrLin)"
   ]
  },
  {
   "cell_type": "code",
   "execution_count": 52,
   "metadata": {},
   "outputs": [],
   "source": [
    "\n",
    "ndArrRandom = np.random.random((3,6)).reshape(9,2)\n",
    "# np.random.randint(start, stop, size = shape)"
   ]
  },
  {
   "cell_type": "code",
   "execution_count": 53,
   "metadata": {},
   "outputs": [
    {
     "name": "stdout",
     "output_type": "stream",
     "text": [
      "[[ 0.73936556  0.66384373]\n",
      " [ 0.85662217  0.56969913]\n",
      " [ 0.56106364  0.63945219]\n",
      " [ 0.73786784  0.29017251]\n",
      " [ 0.49840871  0.761671  ]\n",
      " [ 0.53106127  0.53302715]\n",
      " [ 0.15776216  0.31086511]\n",
      " [ 0.59109853  0.51998414]\n",
      " [ 0.30284665  0.92565337]]\n"
     ]
    }
   ],
   "source": [
    "print(ndArrRandom)"
   ]
  },
  {
   "cell_type": "code",
   "execution_count": 61,
   "metadata": {},
   "outputs": [
    {
     "name": "stdout",
     "output_type": "stream",
     "text": [
      "ndArrNor = \n",
      " [[-0.15935002  0.14302032 -0.00764631 ...,  0.11881185  0.19292268\n",
      "  -0.08987834]\n",
      " [ 0.13407518  0.10124731 -0.14720596 ...,  0.03673544  0.09312499\n",
      "  -0.19463469]\n",
      " [-0.08727059 -0.01653929 -0.08956294 ...,  0.24731355 -0.26985312\n",
      "   0.17146987]\n",
      " ..., \n",
      " [ 0.00977421  0.00893021 -0.21083963 ..., -0.05928638 -0.0821532\n",
      "  -0.09201788]\n",
      " [ 0.01664932  0.08131947  0.0842149  ...,  0.09589863 -0.12421034\n",
      "  -0.01263083]\n",
      " [ 0.04701478  0.01441019  0.22063747 ...,  0.18935602 -0.06392775\n",
      "   0.0229201 ]]\n",
      "\n",
      "shape:  (100, 100)\n",
      "dtype:  float64\n",
      "type:  <class 'numpy.ndarray'>\n",
      "max:  0.366859087332\n",
      "min:  -0.386646828783\n",
      "mean:  0.000192250508953\n",
      "negative number:  4954\n",
      "positive number:  5046\n"
     ]
    }
   ],
   "source": [
    "# create ndarrays with random numbers that satisfy certain statistical properties\n",
    "# np.random.normal(mean, standard deviation, size=shape)\n",
    "# create a 100 x 100 ndarray of random floats drawn from normal (Gaussian) distribution\n",
    "# with a mean of zero and a standard deviation of 0.1.\n",
    "ndArrNor = np.random.normal(0, 0.1, size=(100,100))\n",
    "print('ndArrNor = \\n', ndArrNor)\n",
    "print()\n",
    "print('shape: ',ndArrNor.shape )\n",
    "print('dtype: ', ndArrNor.dtype)\n",
    "print('type: ', type(ndArrNor))\n",
    "print('max: ', ndArrNor.max())\n",
    "print('min: ', ndArrNor.min())\n",
    "print('mean: ', ndArrNor.mean())\n",
    "print('negative number: ', (ndArrNor < 0).sum())\n",
    "print('positive number: ', (ndArrNor > 0).sum())"
   ]
  },
  {
   "cell_type": "code",
   "execution_count": 60,
   "metadata": {},
   "outputs": [
    {
     "data": {
      "text/plain": [
       "array([ True,  True,  True,  True,  True, False, False], dtype=bool)"
      ]
     },
     "execution_count": 60,
     "metadata": {},
     "output_type": "execute_result"
    }
   ],
   "source": [
    "tem = np.array([1,2,5,6,4,0,-9])\n",
    "tem  > 0"
   ]
  },
  {
   "cell_type": "markdown",
   "metadata": {},
   "source": [
    "## Mutate ndarray\n"
   ]
  },
  {
   "cell_type": "code",
   "execution_count": 71,
   "metadata": {},
   "outputs": [],
   "source": [
    "# create a 3 x 3 rank 2 ndarray that contains integers from 1 to 9\n",
    "ndarrMu = np.array([[1,2,3],[4,5,6],[7,8,9]])"
   ]
  },
  {
   "cell_type": "code",
   "execution_count": 72,
   "metadata": {},
   "outputs": [],
   "source": [
    "# delete the first row of y\n",
    "w = np.delete(ndarrMu, 0, axis=0)\n",
    "\n",
    "# delete the first and last column of y\n",
    "v = np.delete(ndarrMu, [0,2], axis=1)\n"
   ]
  },
  {
   "cell_type": "code",
   "execution_count": 73,
   "metadata": {},
   "outputs": [
    {
     "name": "stdout",
     "output_type": "stream",
     "text": [
      "[[4 5 6]\n",
      " [7 8 9]]\n"
     ]
    }
   ],
   "source": [
    "print(w)"
   ]
  },
  {
   "cell_type": "code",
   "execution_count": 74,
   "metadata": {},
   "outputs": [
    {
     "name": "stdout",
     "output_type": "stream",
     "text": [
      "[[2]\n",
      " [5]\n",
      " [8]]\n"
     ]
    }
   ],
   "source": [
    "print(v)"
   ]
  },
  {
   "cell_type": "code",
   "execution_count": 75,
   "metadata": {},
   "outputs": [
    {
     "name": "stdout",
     "output_type": "stream",
     "text": [
      "[[1 2 3]\n",
      " [4 5 6]\n",
      " [7 8 9]]\n"
     ]
    }
   ],
   "source": [
    "print(ndarrMu)"
   ]
  },
  {
   "cell_type": "code",
   "execution_count": 78,
   "metadata": {},
   "outputs": [
    {
     "name": "stdout",
     "output_type": "stream",
     "text": [
      "[[1 2 3]\n",
      " [4 5 6]\n",
      " [7 8 9]\n",
      " [7 8 9]]\n",
      "\n",
      "[[ 1  2  3  9]\n",
      " [ 4  5  6 10]\n",
      " [ 7  8  9 11]]\n"
     ]
    }
   ],
   "source": [
    "# append a new row containing 7,8,9 to y\n",
    "newNdArr1 = np.append(ndarrMu, [[7,8,9]], axis=0)\n",
    "\n",
    "# append a new column containing 9 and 10 to y\n",
    "newNdArr2 = np.append(ndarrMu,[[9],[10],[11]], axis=1)\n",
    "\n",
    "print(newNdArr1)\n",
    "print()\n",
    "print(newNdArr2)"
   ]
  },
  {
   "cell_type": "code",
   "execution_count": 79,
   "metadata": {},
   "outputs": [],
   "source": [
    "# np.insert(ndarray, index, elements, axis)\n",
    "# np.vstack()\n",
    "# np.hstack()"
   ]
  },
  {
   "cell_type": "markdown",
   "metadata": {},
   "source": [
    "# Slicing ndarray"
   ]
  },
  {
   "cell_type": "code",
   "execution_count": 80,
   "metadata": {},
   "outputs": [
    {
     "name": "stdout",
     "output_type": "stream",
     "text": [
      "[[ 0  1  2  3]\n",
      " [ 4  5  6  7]\n",
      " [ 8  9 10 11]\n",
      " [12 13 14 15]\n",
      " [16 17 18 19]]\n"
     ]
    }
   ],
   "source": [
    "ndarrSlicing = np.arange(20).reshape(5,4)\n",
    "print(ndarrSlicing)"
   ]
  },
  {
   "cell_type": "code",
   "execution_count": 83,
   "metadata": {},
   "outputs": [
    {
     "name": "stdout",
     "output_type": "stream",
     "text": [
      "[[89  7]\n",
      " [10 11]\n",
      " [14 15]]\n"
     ]
    }
   ],
   "source": [
    "s1 = ndarrSlicing[1:4,2:5]\n",
    "print(s1)\n",
    "s1[0,0] = 89 # this will change ndarrSlicing as well, because ndarray slicing is a view of original array\n"
   ]
  },
  {
   "cell_type": "code",
   "execution_count": 84,
   "metadata": {},
   "outputs": [
    {
     "name": "stdout",
     "output_type": "stream",
     "text": [
      "[[ 0  1  2  3]\n",
      " [ 4  5 89  7]\n",
      " [ 8  9 10 11]\n",
      " [12 13 14 15]\n",
      " [16 17 18 19]]\n"
     ]
    }
   ],
   "source": [
    "print(ndarrSlicing)"
   ]
  },
  {
   "cell_type": "code",
   "execution_count": 88,
   "metadata": {},
   "outputs": [
    {
     "name": "stdout",
     "output_type": "stream",
     "text": [
      "[[100   7]\n",
      " [ 10  11]\n",
      " [ 14  15]]\n",
      "\n",
      "[[ 0  1  2  3]\n",
      " [ 4  5 89  7]\n",
      " [ 8  9 10 11]\n",
      " [12 13 14 15]\n",
      " [16 17 18 19]]\n"
     ]
    }
   ],
   "source": [
    "# to create a new ndarray that contains a copy of the values in the slice we need to use the np.copy()\n",
    "s2 = ndarrSlicing[1:4,2:5].copy()\n",
    "s2[0,0] = 100\n",
    "print(s2)\n",
    "print()\n",
    "print(ndarrSlicing)"
   ]
  },
  {
   "cell_type": "code",
   "execution_count": 91,
   "metadata": {},
   "outputs": [
    {
     "data": {
      "text/plain": [
       "array([ 0.0056741 ,  0.06455062,  0.09918317,  0.16731196,  0.18720107,\n",
       "        0.23805154,  0.27650698,  0.30374367,  0.40049867,  0.54028808,\n",
       "        0.61422525,  0.65164235,  0.77319267,  0.86279759,  0.94131908])"
      ]
     },
     "execution_count": 91,
     "metadata": {},
     "output_type": "execute_result"
    }
   ],
   "source": [
    "# to extract only the unique elements in an ndarray\n",
    "np.unique(np.random.random((3,5)))"
   ]
  },
  {
   "cell_type": "code",
   "execution_count": 93,
   "metadata": {},
   "outputs": [
    {
     "name": "stdout",
     "output_type": "stream",
     "text": [
      "[1 2 3 5 8]\n",
      "type:  <class 'numpy.ndarray'>\n"
     ]
    }
   ],
   "source": [
    "ndUnique = np.unique([[1,2,3],[5,2,8],[1,2,3]])\n",
    "print(ndUnique)\n",
    "print('type: ', type(ndUnique))\n"
   ]
  },
  {
   "cell_type": "markdown",
   "metadata": {},
   "source": [
    "## Extracts the elements along the diagonal"
   ]
  },
  {
   "cell_type": "code",
   "execution_count": 96,
   "metadata": {},
   "outputs": [
    {
     "name": "stdout",
     "output_type": "stream",
     "text": [
      "[[ 0  1  2  3  4]\n",
      " [ 5  6  7  8  9]\n",
      " [10 11 12 13 14]\n",
      " [15 16 17 18 19]\n",
      " [20 21 22 23 24]]\n",
      "\n",
      "[ 0  6 12 18 24]\n",
      "\n",
      "[ 1  7 13 19]\n",
      "\n",
      "[ 5 11 17 23]\n"
     ]
    }
   ],
   "source": [
    "# np.diag(ndarray, k=N)\n",
    "# default k = 0\n",
    "# k < 0, select elements in diagonal below main diagonal\n",
    "# k > 0, select elemnts in diagonal above main diagonal\n",
    "ndarrDiag = np.arange(25).reshape(5,5)\n",
    "print(ndarrDiag)\n",
    "print()\n",
    "print(np.diag(ndarrDiag))\n",
    "print()\n",
    "print(np.diag(ndarrDiag, k=1))\n",
    "print()\n",
    "print(np.diag(ndarrDiag, k=-1))"
   ]
  },
  {
   "cell_type": "markdown",
   "metadata": {},
   "source": [
    "## Boolean indexing, sorting, set operations"
   ]
  },
  {
   "cell_type": "code",
   "execution_count": 100,
   "metadata": {},
   "outputs": [
    {
     "name": "stdout",
     "output_type": "stream",
     "text": [
      "[[12 23 20 19  2]\n",
      " [15 23  6 22  2]\n",
      " [21  9  6 18  8]\n",
      " [21 12 16  4 16]\n",
      " [ 1  4  1 15 11]]\n",
      "\n",
      "Values are greater than 7 and less than 12 in ndarayB:  [ 9  8 11]\n"
     ]
    }
   ],
   "source": [
    "ndarrayB = np.random.randint(1, 25,size=(5,5))\n",
    "print(ndarrayB)\n",
    "print()\n",
    "print('Values are greater than 7 and less than 12 in ndarayB: ', ndarrayB[(ndarrayB > 7) & (ndarrayB < 12)])"
   ]
  },
  {
   "cell_type": "code",
   "execution_count": 101,
   "metadata": {},
   "outputs": [
    {
     "name": "stdout",
     "output_type": "stream",
     "text": [
      "\n",
      "The elements that are both in ndarrS1 and ndarrS2: [ 3  4  5  6  7  8  9 10 11]\n",
      "The elements that are in ndarrS1 that are not in ndarrS2: [0 1 2]\n",
      "All the elements of ndarrS1 and ndarrS2: [ 0  1  2  3  4  5  6  7  8  9 10 11 12 13 14 15 16 17 18 19 20 21 22 23 24\n",
      " 25]\n"
     ]
    }
   ],
   "source": [
    "ndarrS1 = np.arange(12)\n",
    "ndarrS2 = np.arange(3,26)\n",
    "print()\n",
    "print('The elements that are both in ndarrS1 and ndarrS2:', np.intersect1d(ndarrS1,ndarrS2))\n",
    "print('The elements that are in ndarrS1 that are not in ndarrS2:', np.setdiff1d(ndarrS1,ndarrS2))\n",
    "print('All the elements of ndarrS1 and ndarrS2:',np.union1d(ndarrS1,ndarrS2))\n"
   ]
  },
  {
   "cell_type": "code",
   "execution_count": 110,
   "metadata": {},
   "outputs": [
    {
     "name": "stdout",
     "output_type": "stream",
     "text": [
      "[[50 15  4 13]\n",
      " [22  5 79 72]\n",
      " [24 66 84 55]\n",
      " [88 24 66 52]\n",
      " [41 36 31 38]]\n",
      "\n",
      "ndSorting with sorted rows:\n",
      "  [[ 4 13 15 50]\n",
      " [ 5 22 72 79]\n",
      " [24 55 66 84]\n",
      " [24 52 66 88]\n",
      " [31 36 38 41]]\n",
      "\n",
      "ndSorting with sorted column:\n",
      "  [[22  5  4 13]\n",
      " [24 15 31 38]\n",
      " [41 24 66 52]\n",
      " [50 36 79 55]\n",
      " [88 66 84 72]]\n"
     ]
    }
   ],
   "source": [
    "# sorting rank 2 ndarrays, specify to the np.sort() function whether we are sorting by rows or columns. This is done by using the axis keyword\n",
    "ndSorting = np.random.randint(4,89, size=(5,4))\n",
    "print(ndSorting)\n",
    "print()\n",
    "print('ndSorting with sorted rows:\\n ', np.sort(ndSorting, axis=1))\n",
    "print()\n",
    "print('ndSorting with sorted column:\\n ', np.sort(ndSorting, axis=0))\n",
    "\n"
   ]
  },
  {
   "cell_type": "markdown",
   "metadata": {},
   "source": [
    "## Arithmetic operation and broadcasting\n",
    "- [broadcasting rules](https://docs.scipy.org/doc/numpy-1.13.0/user/basics.broadcasting.html)"
   ]
  },
  {
   "cell_type": "code",
   "execution_count": 124,
   "metadata": {},
   "outputs": [
    {
     "name": "stdout",
     "output_type": "stream",
     "text": [
      "[ 2  7 12 17 22 27 32 37 42]\n",
      "\n",
      "[ 1  6 11 16 21 26 31 36 41]\n",
      "\n",
      "[ 3 13 23 33 43 53 63 73 83]\n",
      "\n",
      "[1 1 1 1 1 1 1 1 1]\n",
      "\n",
      "[   2   42  132  272  462  702  992 1332 1722]\n",
      "\n",
      "[2 1 1 1 1 1 1 1 1]\n"
     ]
    }
   ],
   "source": [
    "ndarrAri = np.arange(2,45,5)\n",
    "ndarrAri2 = np.arange(1,44,5)\n",
    "print(ndarrAri)\n",
    "print()\n",
    "print(ndarrAri2)\n",
    "print()\n",
    "print(ndarrAri + ndarrAri2)\n",
    "print()\n",
    "print(ndarrAri - ndarrAri2)\n",
    "print()\n",
    "print(ndarrAri * ndarrAri2)\n",
    "print()\n",
    "print(ndarrAri // ndarrAri2)"
   ]
  },
  {
   "cell_type": "code",
   "execution_count": 139,
   "metadata": {},
   "outputs": [
    {
     "name": "stdout",
     "output_type": "stream",
     "text": [
      "[[ 2  7 12]\n",
      " [ 1  6 11]]\n",
      "\n",
      "ndarr2D mean:  6.5\n",
      "\n",
      "ndarr2D mean x:  [ 7.  6.]\n",
      "\n",
      "ndarr2D mean y:  [  1.5   6.5  11.5]\n",
      "\n",
      "ndarr2D std :  4.11298755975\n",
      "\n",
      "ndarr2D std y:  [ 0.5  0.5  0.5]\n",
      "\n",
      "ndarr2D sum :  [ 3 13 23]\n",
      "\n"
     ]
    }
   ],
   "source": [
    "ndarr2D = np.array([ndarrAri.copy(), ndarrAri2.copy()])[:,:3]\n",
    "print(ndarr2D)\n",
    "print()\n",
    "print('ndarr2D mean: ',ndarr2D.mean())\n",
    "print()\n",
    "print('ndarr2D mean x: ',ndarr2D.mean(axis=1))\n",
    "print()\n",
    "print('ndarr2D mean y: ',ndarr2D.mean(axis=0))\n",
    "print()\n",
    "print('ndarr2D std : ',ndarr2D.std())\n",
    "print()\n",
    "print('ndarr2D std y: ',ndarr2D.std(axis=0))\n",
    "print()\n",
    "print('ndarr2D sum : ',ndarr2D.sum(axis=0))\n",
    "print()\n"
   ]
  },
  {
   "cell_type": "code",
   "execution_count": 143,
   "metadata": {},
   "outputs": [
    {
     "data": {
      "text/plain": [
       "array([[1, 2, 3, 4],\n",
       "       [1, 2, 3, 4],\n",
       "       [1, 2, 3, 4],\n",
       "       [1, 2, 3, 4]])"
      ]
     },
     "execution_count": 143,
     "metadata": {},
     "output_type": "execute_result"
    }
   ],
   "source": [
    "np.ones((4,4),dtype=int)*(np.arange(1,5))"
   ]
  },
  {
   "cell_type": "code",
   "execution_count": 144,
   "metadata": {},
   "outputs": [
    {
     "data": {
      "text/plain": [
       "array([1, 2, 3, 4])"
      ]
     },
     "execution_count": 144,
     "metadata": {},
     "output_type": "execute_result"
    }
   ],
   "source": [
    "np.arange(1,5)"
   ]
  },
  {
   "cell_type": "code",
   "execution_count": null,
   "metadata": {},
   "outputs": [],
   "source": []
  }
 ],
 "metadata": {
  "kernelspec": {
   "display_name": "Python [conda env:dl]",
   "language": "python",
   "name": "conda-env-dl-py"
  },
  "language_info": {
   "codemirror_mode": {
    "name": "ipython",
    "version": 3
   },
   "file_extension": ".py",
   "mimetype": "text/x-python",
   "name": "python",
   "nbconvert_exporter": "python",
   "pygments_lexer": "ipython3",
   "version": "3.6.3"
  }
 },
 "nbformat": 4,
 "nbformat_minor": 2
}
